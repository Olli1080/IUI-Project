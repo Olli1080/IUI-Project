{
 "cells": [
  {
   "cell_type": "code",
   "execution_count": 45,
   "metadata": {},
   "outputs": [],
   "source": [
    "import pandas as pd\n",
    "import numpy as np\n",
    "import math\n",
    "from sklearn.neighbors import NearestNeighbors\n",
    "from scipy.sparse import csr_matrix\n",
    "import json\n",
    "from collections import ChainMap\n",
    "\n",
    "pd.set_option(\"display.max_columns\", None)\n",
    "pd.set_option(\"display.max_rows\", None)"
   ]
  },
  {
   "cell_type": "code",
   "execution_count": 46,
   "metadata": {},
   "outputs": [],
   "source": [
    "with open('./allCourses.json', 'r') as f:\n",
    "    data = json.load(f)\n",
    "\n",
    "def fa(x):\n",
    "    return { x[\"key\"] + \"02\" : (int(x[\"regular_semester\"][0]) - 1) / 5.0 }\n",
    "\n",
    "regular_sem = pd.Series(data=dict(ChainMap(*map(fa, data))))"
   ]
  },
  {
   "cell_type": "code",
   "execution_count": 47,
   "metadata": {},
   "outputs": [],
   "source": [
    "course_codes = [\"KP\", \"RR\", \"AI\", \"A2\", \"BS\", \"TI\", \"T2\", \"PV\", \"P2\", \"MM\", \"DS\", \"D2\", \"SE\", \"KI\", \"CB\", \"HC\", \"H2\", \"IT\", \"CG\", \"ES\", \"RI\", \"CS\", \"GD\", \"FP\", \"DL\", \"PR\", \"BP\", \"SR\", \"BA\", \"K1\", \"IU\"]\n",
    "course_rating_codes = list()\n",
    "course_grade_codes = list()\n",
    "course_semester_codes = list()\n",
    "course_data_codes = list()\n",
    "\n",
    "for c in course_codes:\n",
    "    course_data_codes.append(c + \"01_01\")\n",
    "    course_data_codes.append(c + \"02\")\n",
    "    course_data_codes.append(c + \"03\")\n",
    "\n",
    "    course_grade_codes.append(c + \"01_01\")\n",
    "    course_semester_codes.append(c + \"02\")\n",
    "    course_rating_codes.append(c + \"03\")\n",
    "\n",
    "temp = course_data_codes + [\"FINISHED\"]\n",
    "\n",
    "data = pd.read_csv('data_tutorial316936_2022-06-15_10-39.csv', encoding = \"ISO-8859-1\")\n",
    "\n",
    "filtered = pd.DataFrame()\n",
    "for i in temp:\n",
    "    if i in data.columns:\n",
    "        filtered[i] = data[i]\n",
    "    else:\n",
    "        filtered[i] = np.NAN\n",
    "\n",
    "filtered = filtered.loc[filtered[\"FINISHED\"] == \"1\"].drop([\"FINISHED\"], axis=1)\n",
    "\n",
    "exists = pd.DataFrame()\n",
    "exists_all = pd.DataFrame()\n",
    "for i in course_codes:\n",
    "    exists[i] = filtered[[i + \"01_01\", i + \"02\", i + \"03\"]].any(axis=1)\n",
    "    exists_all[i + \"01_01\"] = exists[i]\n",
    "    exists_all[i + \"02\"] = exists[i]\n",
    "    exists_all[i + \"03\"] = exists[i]"
   ]
  },
  {
   "cell_type": "code",
   "execution_count": 48,
   "metadata": {},
   "outputs": [],
   "source": [
    "#labels = pd.read_csv('values_tutorial316936_2022-06-15_11-18.csv', encoding = \"ISO-8859-1\")\n",
    "#filtered"
   ]
  },
  {
   "cell_type": "code",
   "execution_count": 49,
   "metadata": {},
   "outputs": [],
   "source": [
    "#Normalization\n",
    "grades = [1.0, 1.3, 1.7, 2.0, 2.3, 2.7, 3.0, 3.3, 3.7, 4.0, 5.0]\n",
    "\n",
    "def grade(i):\n",
    "    if math.isnan(float(i)) or i == \"-9\":\n",
    "        return np.NAN\n",
    "    return (grades[int(i) - 1] - 1.0) / 4.0\n",
    "    \n",
    "def semester(i):\n",
    "    if math.isnan(float(i)) or i == \"-9\":\n",
    "        return np.NAN\n",
    "    return (int(i) - 1) / 5.0#np.exp(int(i) * np.log(2.0) / 6.0) - 1.0 #\n",
    "\n",
    "def like(i):\n",
    "    if math.isnan(float(i)) or i == \"-9\":\n",
    "        return np.NAN\n",
    "    return (int(i) - 1) / 2\n",
    "\n",
    "for c in course_codes:\n",
    "    c_grade = str(c) + \"01_01\"\n",
    "    c_semester = str(c) + \"02\"\n",
    "    c_like = str(c) + \"03\"\n",
    "    filtered[c_grade] = filtered[c_grade].map(grade)\n",
    "    filtered[c_semester] = filtered[c_semester].map(semester)\n",
    "    filtered[c_like] = filtered[c_like].map(like)"
   ]
  },
  {
   "cell_type": "code",
   "execution_count": 50,
   "metadata": {},
   "outputs": [],
   "source": [
    "semesters = filtered.loc[:, course_semester_codes]\n",
    "\n",
    "def fill(x):\n",
    "    m = x.max()\n",
    "    cp = regular_sem.copy()\n",
    "    cp[cp < m] = m\n",
    "\n",
    "    x[x.isna()] = cp[x.isna()]\n",
    "    \n",
    "    return x\n",
    "\n",
    "fi = filtered.copy()\n",
    "fi.loc[:, course_semester_codes] = semesters.apply(fill, axis=1)\n",
    "fi = fi.fillna(0.5)"
   ]
  },
  {
   "cell_type": "code",
   "execution_count": 51,
   "metadata": {},
   "outputs": [
    {
     "data": {
      "text/html": [
       "<style>#sk-container-id-5 {color: black;background-color: white;}#sk-container-id-5 pre{padding: 0;}#sk-container-id-5 div.sk-toggleable {background-color: white;}#sk-container-id-5 label.sk-toggleable__label {cursor: pointer;display: block;width: 100%;margin-bottom: 0;padding: 0.3em;box-sizing: border-box;text-align: center;}#sk-container-id-5 label.sk-toggleable__label-arrow:before {content: \"▸\";float: left;margin-right: 0.25em;color: #696969;}#sk-container-id-5 label.sk-toggleable__label-arrow:hover:before {color: black;}#sk-container-id-5 div.sk-estimator:hover label.sk-toggleable__label-arrow:before {color: black;}#sk-container-id-5 div.sk-toggleable__content {max-height: 0;max-width: 0;overflow: hidden;text-align: left;background-color: #f0f8ff;}#sk-container-id-5 div.sk-toggleable__content pre {margin: 0.2em;color: black;border-radius: 0.25em;background-color: #f0f8ff;}#sk-container-id-5 input.sk-toggleable__control:checked~div.sk-toggleable__content {max-height: 200px;max-width: 100%;overflow: auto;}#sk-container-id-5 input.sk-toggleable__control:checked~label.sk-toggleable__label-arrow:before {content: \"▾\";}#sk-container-id-5 div.sk-estimator input.sk-toggleable__control:checked~label.sk-toggleable__label {background-color: #d4ebff;}#sk-container-id-5 div.sk-label input.sk-toggleable__control:checked~label.sk-toggleable__label {background-color: #d4ebff;}#sk-container-id-5 input.sk-hidden--visually {border: 0;clip: rect(1px 1px 1px 1px);clip: rect(1px, 1px, 1px, 1px);height: 1px;margin: -1px;overflow: hidden;padding: 0;position: absolute;width: 1px;}#sk-container-id-5 div.sk-estimator {font-family: monospace;background-color: #f0f8ff;border: 1px dotted black;border-radius: 0.25em;box-sizing: border-box;margin-bottom: 0.5em;}#sk-container-id-5 div.sk-estimator:hover {background-color: #d4ebff;}#sk-container-id-5 div.sk-parallel-item::after {content: \"\";width: 100%;border-bottom: 1px solid gray;flex-grow: 1;}#sk-container-id-5 div.sk-label:hover label.sk-toggleable__label {background-color: #d4ebff;}#sk-container-id-5 div.sk-serial::before {content: \"\";position: absolute;border-left: 1px solid gray;box-sizing: border-box;top: 0;bottom: 0;left: 50%;z-index: 0;}#sk-container-id-5 div.sk-serial {display: flex;flex-direction: column;align-items: center;background-color: white;padding-right: 0.2em;padding-left: 0.2em;position: relative;}#sk-container-id-5 div.sk-item {position: relative;z-index: 1;}#sk-container-id-5 div.sk-parallel {display: flex;align-items: stretch;justify-content: center;background-color: white;position: relative;}#sk-container-id-5 div.sk-item::before, #sk-container-id-5 div.sk-parallel-item::before {content: \"\";position: absolute;border-left: 1px solid gray;box-sizing: border-box;top: 0;bottom: 0;left: 50%;z-index: -1;}#sk-container-id-5 div.sk-parallel-item {display: flex;flex-direction: column;z-index: 1;position: relative;background-color: white;}#sk-container-id-5 div.sk-parallel-item:first-child::after {align-self: flex-end;width: 50%;}#sk-container-id-5 div.sk-parallel-item:last-child::after {align-self: flex-start;width: 50%;}#sk-container-id-5 div.sk-parallel-item:only-child::after {width: 0;}#sk-container-id-5 div.sk-dashed-wrapped {border: 1px dashed gray;margin: 0 0.4em 0.5em 0.4em;box-sizing: border-box;padding-bottom: 0.4em;background-color: white;}#sk-container-id-5 div.sk-label label {font-family: monospace;font-weight: bold;display: inline-block;line-height: 1.2em;}#sk-container-id-5 div.sk-label-container {text-align: center;}#sk-container-id-5 div.sk-container {/* jupyter's `normalize.less` sets `[hidden] { display: none; }` but bootstrap.min.css set `[hidden] { display: none !important; }` so we also need the `!important` here to be able to override the default hidden behavior on the sphinx rendered scikit-learn.org. See: https://github.com/scikit-learn/scikit-learn/issues/21755 */display: inline-block !important;position: relative;}#sk-container-id-5 div.sk-text-repr-fallback {display: none;}</style><div id=\"sk-container-id-5\" class=\"sk-top-container\"><div class=\"sk-text-repr-fallback\"><pre>NearestNeighbors(n_neighbors=4)</pre><b>In a Jupyter environment, please rerun this cell to show the HTML representation or trust the notebook. <br />On GitHub, the HTML representation is unable to render, please try loading this page with nbviewer.org.</b></div><div class=\"sk-container\" hidden><div class=\"sk-item\"><div class=\"sk-estimator sk-toggleable\"><input class=\"sk-toggleable__control sk-hidden--visually\" id=\"sk-estimator-id-5\" type=\"checkbox\" checked><label for=\"sk-estimator-id-5\" class=\"sk-toggleable__label sk-toggleable__label-arrow\">NearestNeighbors</label><div class=\"sk-toggleable__content\"><pre>NearestNeighbors(n_neighbors=4)</pre></div></div></div></div></div>"
      ],
      "text/plain": [
       "NearestNeighbors(n_neighbors=4)"
      ]
     },
     "execution_count": 51,
     "metadata": {},
     "output_type": "execute_result"
    }
   ],
   "source": [
    "knn = NearestNeighbors(n_neighbors=4)\n",
    "knn.fit(fi)"
   ]
  },
  {
   "cell_type": "code",
   "execution_count": 81,
   "metadata": {},
   "outputs": [],
   "source": [
    "def semester_rec(current, other):\n",
    "    common = np.exp(12*(other-current))\n",
    "    return 1.0 - 0.9 * common / (1.0 + common)\n",
    "\n",
    "sem = pd.DataFrame()\n",
    "\n",
    "def get_recommendations(user_data):\n",
    "\n",
    "    \n",
    "    current = user_data[0]\n",
    "\n",
    "    distances, neighbour_users = knn.kneighbors(user_data)\n",
    "    \n",
    "    similarity = 1 / (distances + 1)\n",
    "\n",
    "    a = exists_all.iloc[neighbour_users.flatten()].loc[:, course_rating_codes]\n",
    "    a = a.loc[:, a.any()]\n",
    "    for i in a.columns:\n",
    "        a[i[0:2]] = a[i]\n",
    "    a = a.drop(set(course_rating_codes).intersection(set(a.columns)), axis=1)\n",
    "    a = a.replace(False, 0.0).replace(True, 1)\n",
    "\n",
    "    #print(a)\n",
    "\n",
    "    temp = filtered.iloc[neighbour_users.flatten()].loc[:, exists_all.iloc[neighbour_users.flatten()].any()]\n",
    "    temp2 = pd.DataFrame()\n",
    "    temp_grade = pd.DataFrame()\n",
    "    #temp_sem = pd.DataFrame()\n",
    "    for i in course_codes:\n",
    "        if i + \"01_01\" in temp.columns:\n",
    "            temp2[i] = temp[[i + \"03\"]]\n",
    "            temp_grade[i] = 1.0 - temp[[i + \"01_01\"]]\n",
    "            sem[i] = temp[[i + \"02\"]]\n",
    "    \n",
    "            #temp_sem[i] = \n",
    "    #temp2[temp2.notna()] += 0.2\n",
    "    #print((temp2.fillna(0.0) + temp_grade.fillna(0.0)) / 2.0)\n",
    "\n",
    "    qwe = pd.DataFrame()\n",
    "    rtz = pd.DataFrame()\n",
    "    for col in temp2.columns:\n",
    "        qwe[col] = ((temp2[col] + temp_grade[col]) / 2.0).fillna(0.0).dot(similarity.T)\n",
    "        #rtz[col] = .fillna(0.0).dot(similarity.T)\n",
    "    \n",
    "    #print(temp_grade)\n",
    "\n",
    "    #print(temp2[col].fillna(0.0).dot(similarity.T) + temp_grade[col].fillna(0.0).dot(similarity.T))\n",
    "\n",
    "    \n",
    "\n",
    "    asdf = pd.DataFrame()\n",
    "    for col in a.columns:\n",
    "        asdf[col] = a[col].fillna(0.0).dot(similarity.T)\n",
    "\n",
    "    #print(asdf)\n",
    "\n",
    "    results = (qwe / asdf).iloc[0].sort_values(ascending=False)\n",
    "    return results, current #/ 1.2"
   ]
  },
  {
   "cell_type": "code",
   "execution_count": 82,
   "metadata": {},
   "outputs": [
    {
     "name": "stderr",
     "output_type": "stream",
     "text": [
      "C:\\Users\\Oliver\\AppData\\Local\\Packages\\PythonSoftwareFoundation.Python.3.10_qbz5n2kfra8p0\\LocalCache\\local-packages\\Python310\\site-packages\\sklearn\\base.py:450: UserWarning: X does not have valid feature names, but NearestNeighbors was fitted with feature names\n",
      "  warnings.warn(\n"
     ]
    }
   ],
   "source": [
    "ratings, current = get_recommendations([fi.loc[2]])"
   ]
  },
  {
   "cell_type": "code",
   "execution_count": 83,
   "metadata": {},
   "outputs": [
    {
     "data": {
      "text/html": [
       "<div>\n",
       "<style scoped>\n",
       "    .dataframe tbody tr th:only-of-type {\n",
       "        vertical-align: middle;\n",
       "    }\n",
       "\n",
       "    .dataframe tbody tr th {\n",
       "        vertical-align: top;\n",
       "    }\n",
       "\n",
       "    .dataframe thead th {\n",
       "        text-align: right;\n",
       "    }\n",
       "</style>\n",
       "<table border=\"1\" class=\"dataframe\">\n",
       "  <thead>\n",
       "    <tr style=\"text-align: right;\">\n",
       "      <th></th>\n",
       "      <th>KP</th>\n",
       "      <th>RR</th>\n",
       "      <th>AI</th>\n",
       "      <th>BS</th>\n",
       "      <th>TI</th>\n",
       "      <th>PV</th>\n",
       "      <th>DS</th>\n",
       "      <th>HC</th>\n",
       "      <th>H2</th>\n",
       "      <th>RI</th>\n",
       "      <th>DL</th>\n",
       "      <th>BP</th>\n",
       "      <th>K1</th>\n",
       "    </tr>\n",
       "  </thead>\n",
       "  <tbody>\n",
       "    <tr>\n",
       "      <th>2</th>\n",
       "      <td>NaN</td>\n",
       "      <td>NaN</td>\n",
       "      <td>NaN</td>\n",
       "      <td>NaN</td>\n",
       "      <td>NaN</td>\n",
       "      <td>NaN</td>\n",
       "      <td>NaN</td>\n",
       "      <td>NaN</td>\n",
       "      <td>0.0</td>\n",
       "      <td>NaN</td>\n",
       "      <td>0.0</td>\n",
       "      <td>NaN</td>\n",
       "      <td>NaN</td>\n",
       "    </tr>\n",
       "    <tr>\n",
       "      <th>13</th>\n",
       "      <td>0.0</td>\n",
       "      <td>0.0</td>\n",
       "      <td>NaN</td>\n",
       "      <td>NaN</td>\n",
       "      <td>NaN</td>\n",
       "      <td>NaN</td>\n",
       "      <td>NaN</td>\n",
       "      <td>NaN</td>\n",
       "      <td>NaN</td>\n",
       "      <td>NaN</td>\n",
       "      <td>NaN</td>\n",
       "      <td>NaN</td>\n",
       "      <td>NaN</td>\n",
       "    </tr>\n",
       "    <tr>\n",
       "      <th>10</th>\n",
       "      <td>0.0</td>\n",
       "      <td>0.0</td>\n",
       "      <td>0.2</td>\n",
       "      <td>0.4</td>\n",
       "      <td>NaN</td>\n",
       "      <td>0.4</td>\n",
       "      <td>0.2</td>\n",
       "      <td>0.2</td>\n",
       "      <td>NaN</td>\n",
       "      <td>NaN</td>\n",
       "      <td>0.0</td>\n",
       "      <td>NaN</td>\n",
       "      <td>0.4</td>\n",
       "    </tr>\n",
       "    <tr>\n",
       "      <th>12</th>\n",
       "      <td>0.0</td>\n",
       "      <td>0.0</td>\n",
       "      <td>0.2</td>\n",
       "      <td>0.4</td>\n",
       "      <td>NaN</td>\n",
       "      <td>0.0</td>\n",
       "      <td>0.2</td>\n",
       "      <td>NaN</td>\n",
       "      <td>NaN</td>\n",
       "      <td>NaN</td>\n",
       "      <td>0.0</td>\n",
       "      <td>0.4</td>\n",
       "      <td>0.4</td>\n",
       "    </tr>\n",
       "  </tbody>\n",
       "</table>\n",
       "</div>"
      ],
      "text/plain": [
       "     KP   RR   AI   BS  TI   PV   DS   HC   H2  RI   DL   BP   K1\n",
       "2   NaN  NaN  NaN  NaN NaN  NaN  NaN  NaN  0.0 NaN  0.0  NaN  NaN\n",
       "13  0.0  0.0  NaN  NaN NaN  NaN  NaN  NaN  NaN NaN  NaN  NaN  NaN\n",
       "10  0.0  0.0  0.2  0.4 NaN  0.4  0.2  0.2  NaN NaN  0.0  NaN  0.4\n",
       "12  0.0  0.0  0.2  0.4 NaN  0.0  0.2  NaN  NaN NaN  0.0  0.4  0.4"
      ]
     },
     "execution_count": 83,
     "metadata": {},
     "output_type": "execute_result"
    }
   ],
   "source": [
    "sem"
   ]
  },
  {
   "cell_type": "code",
   "execution_count": 86,
   "metadata": {},
   "outputs": [
    {
     "data": {
      "text/plain": [
       "KP02    0.0\n",
       "RR02    0.0\n",
       "AI02    0.2\n",
       "A202    0.4\n",
       "BS02    0.4\n",
       "TI02    0.4\n",
       "T202    0.8\n",
       "PV02    0.8\n",
       "P202    0.4\n",
       "MM02    0.0\n",
       "DS02    0.0\n",
       "D202    0.4\n",
       "SE02    0.6\n",
       "KI02    0.8\n",
       "CB02    0.6\n",
       "HC02    0.4\n",
       "H202    0.0\n",
       "IT02    0.4\n",
       "CG02    0.4\n",
       "ES02    0.6\n",
       "RI02    0.6\n",
       "CS02    0.6\n",
       "GD02    0.4\n",
       "FP02    0.4\n",
       "DL02    0.0\n",
       "PR02    0.8\n",
       "BP02    0.4\n",
       "SR02    0.8\n",
       "BA02    1.0\n",
       "K102    0.4\n",
       "IU02    0.4\n",
       "Name: 2, dtype: float64"
      ]
     },
     "execution_count": 86,
     "metadata": {},
     "output_type": "execute_result"
    }
   ],
   "source": [
    "pd.Series(current)[course_semester_codes]"
   ]
  },
  {
   "cell_type": "code",
   "execution_count": null,
   "metadata": {},
   "outputs": [],
   "source": []
  }
 ],
 "metadata": {
  "kernelspec": {
   "display_name": "Python 3.10.5 64-bit (windows store)",
   "language": "python",
   "name": "python3"
  },
  "language_info": {
   "codemirror_mode": {
    "name": "ipython",
    "version": 3
   },
   "file_extension": ".py",
   "mimetype": "text/x-python",
   "name": "python",
   "nbconvert_exporter": "python",
   "pygments_lexer": "ipython3",
   "version": "3.10.5"
  },
  "orig_nbformat": 4,
  "vscode": {
   "interpreter": {
    "hash": "f304b4181d4e9b5571594d9fd0db8a85d70595ac37c076c987e04b0aea314b5f"
   }
  }
 },
 "nbformat": 4,
 "nbformat_minor": 2
}
